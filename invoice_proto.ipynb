{
 "metadata": {
  "language_info": {
   "codemirror_mode": {
    "name": "ipython",
    "version": 3
   },
   "file_extension": ".py",
   "mimetype": "text/x-python",
   "name": "python",
   "nbconvert_exporter": "python",
   "pygments_lexer": "ipython3",
   "version": "3.8.5-final"
  },
  "orig_nbformat": 2,
  "kernelspec": {
   "name": "python3",
   "display_name": "Python 3.8.5 64-bit ('lps': conda)",
   "metadata": {
    "interpreter": {
     "hash": "2315436ff9e748ae87b957b6d2efad312fa04a67f4b34ec86d2cce474453eb37"
    }
   }
  }
 },
 "nbformat": 4,
 "nbformat_minor": 2,
 "cells": [
  {
   "source": [
    "# Prototype for generating invoices\n"
   ],
   "cell_type": "markdown",
   "metadata": {}
  },
  {
   "cell_type": "code",
   "execution_count": 15,
   "metadata": {},
   "outputs": [],
   "source": [
    "import datetime\n",
    "import xlsxwriter\n",
    "\n",
    "def write(ws, cell, text):\n",
    "    true_text = text if type(text) is list else [text]\n",
    "    ws.write(cell, *true_text)\n",
    "\n",
    "def write_section(offset, ws, content_list):\n",
    "    for field, data in content_list:\n",
    "        write(ws, f'A{offset}', field)\n",
    "        write(ws, f'B{offset}', data)\n",
    "        offset += 1\n",
    "    return offset\n"
   ]
  },
  {
   "cell_type": "code",
   "execution_count": 16,
   "metadata": {},
   "outputs": [
    {
     "output_type": "execute_result",
     "data": {
      "text/plain": [
       "0"
      ]
     },
     "metadata": {},
     "execution_count": 16
    }
   ],
   "source": [
    "fname = 'invoice_prototype.xlsx'\n",
    "workbook = xlsxwriter.Workbook(fname)\n",
    "worksheet = workbook.add_worksheet('modelo de preenchimento de nota')\n",
    "\n",
    "# Widen the first column to make the text clearer.\n",
    "worksheet.set_column('A:B', 41)"
   ]
  },
  {
   "source": [
    "## Title Section"
   ],
   "cell_type": "markdown",
   "metadata": {}
  },
  {
   "cell_type": "code",
   "execution_count": 17,
   "metadata": {},
   "outputs": [],
   "source": [
    "\n",
    "title_fmt = {\n",
    "    'bold' : True,\n",
    "    'align' : 'center',\n",
    "}\n",
    "worksheet.merge_range('A3:B3', 'FORMULÁRIO DE EMISSÃO DE NOTA FISCAL ELETRÔNICA', workbook.add_format(title_fmt))"
   ]
  },
  {
   "source": [
    "## Sender section"
   ],
   "cell_type": "markdown",
   "metadata": {}
  },
  {
   "source": [
    "now = datetime.date.today()\n",
    "worksheet.merge_range('A5:B5', 'DADOS PARA A EMISSÃO DA NOTA (CLIENTE LAFS)', workbook.add_format(title_fmt))\n",
    "bold = workbook.add_format({'bold' : True})\n",
    "date = workbook.add_format({'num_format' : 'dd mmmm yyyy', 'align' : 'left'})\n",
    "content_list = [\n",
    "    (['DADOS PARA PREENCHIMENTO', bold], ['INFORMAÇÕES', bold]),\n",
    "    ('Razão Social de sua empresa', 'Nemesys Tecnologia de Informação LTDA'),\n",
    "    ('Telefone para contato', '(21) 98230-9495'),\n",
    "    ('E-mail para contato', 'rctorres@nemesysconsulting.com'),\n",
    "    ('DATA EMISSÃO DA NOTA', [now, date]),\n",
    "]\n",
    "offset = 6\n",
    "offset = write_section(offset, worksheet, content_list)"
   ],
   "cell_type": "code",
   "metadata": {},
   "execution_count": 18,
   "outputs": []
  },
  {
   "cell_type": "code",
   "execution_count": null,
   "metadata": {},
   "outputs": [],
   "source": []
  },
  {
   "source": [
    "## Saving the final excel file"
   ],
   "cell_type": "markdown",
   "metadata": {}
  },
  {
   "cell_type": "code",
   "execution_count": 19,
   "metadata": {},
   "outputs": [],
   "source": [
    "workbook.close()"
   ]
  }
 ]
}