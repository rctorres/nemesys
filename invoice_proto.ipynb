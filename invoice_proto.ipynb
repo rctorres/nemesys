{
 "metadata": {
  "language_info": {
   "codemirror_mode": {
    "name": "ipython",
    "version": 3
   },
   "file_extension": ".py",
   "mimetype": "text/x-python",
   "name": "python",
   "nbconvert_exporter": "python",
   "pygments_lexer": "ipython3",
   "version": "3.8.5-final"
  },
  "orig_nbformat": 2,
  "kernelspec": {
   "name": "python3",
   "display_name": "Python 3.8.5 64-bit ('lps': conda)",
   "metadata": {
    "interpreter": {
     "hash": "2315436ff9e748ae87b957b6d2efad312fa04a67f4b34ec86d2cce474453eb37"
    }
   }
  }
 },
 "nbformat": 4,
 "nbformat_minor": 2,
 "cells": [
  {
   "source": [
    "# Prototype for generating invoices\n"
   ],
   "cell_type": "markdown",
   "metadata": {}
  },
  {
   "cell_type": "code",
   "execution_count": null,
   "metadata": {},
   "outputs": [],
   "source": [
    "import xlsxwriter"
   ]
  },
  {
   "cell_type": "code",
   "execution_count": null,
   "metadata": {},
   "outputs": [],
   "source": [
    "fname = 'invoice_prototype.xlsx'\n",
    "workbook = xlsxwriter.Workbook(fname)\n",
    "worksheet = workbook.add_worksheet('modelo de preenchimento de nota')\n",
    "\n",
    "# Widen the first column to make the text clearer.\n",
    "worksheet.set_column('A:B', 40)"
   ]
  },
  {
   "source": [
    "## Title Section"
   ],
   "cell_type": "markdown",
   "metadata": {}
  },
  {
   "cell_type": "code",
   "execution_count": null,
   "metadata": {},
   "outputs": [],
   "source": [
    "\n",
    "title_fmt = {\n",
    "    'bold' : True,\n",
    "    'align' : 'center',\n",
    "}\n",
    "worksheet.merge_range('A3:B3', 'FORMULÁRIO DE EMISSÃO DE NOTA FISCAL ELETRÔNICA', workbook.add_format(title_fmt))"
   ]
  },
  {
   "cell_type": "code",
   "execution_count": null,
   "metadata": {},
   "outputs": [],
   "source": [
    "workbook.close()"
   ]
  },
  {
   "cell_type": "code",
   "execution_count": null,
   "metadata": {},
   "outputs": [],
   "source": []
  }
 ]
}