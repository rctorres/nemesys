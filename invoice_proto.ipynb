{
 "metadata": {
  "language_info": {
   "codemirror_mode": {
    "name": "ipython",
    "version": 3
   },
   "file_extension": ".py",
   "mimetype": "text/x-python",
   "name": "python",
   "nbconvert_exporter": "python",
   "pygments_lexer": "ipython3",
   "version": "3.8.5-final"
  },
  "orig_nbformat": 2,
  "kernelspec": {
   "name": "python3",
   "display_name": "Python 3.8.5 64-bit ('lps': conda)",
   "metadata": {
    "interpreter": {
     "hash": "2315436ff9e748ae87b957b6d2efad312fa04a67f4b34ec86d2cce474453eb37"
    }
   }
  }
 },
 "nbformat": 4,
 "nbformat_minor": 2,
 "cells": [
  {
   "source": [
    "# Prototype for generating invoices\n"
   ],
   "cell_type": "markdown",
   "metadata": {}
  },
  {
   "cell_type": "code",
   "execution_count": null,
   "metadata": {},
   "outputs": [],
   "source": [
    "import datetime\n",
    "import xlsxwriter\n",
    "\n",
    "def write(ws, cell, text):\n",
    "    true_text = text if type(text) is list else [text, text_fmt]\n",
    "    ws.write(cell, *true_text)\n",
    "\n",
    "def write_section(offset, ws, content_list, title):\n",
    "    worksheet.merge_range(f'A{offset}:B{offset}', title, sec_title_fmt)\n",
    "    offset += 1\n",
    "    for field, data in content_list:\n",
    "        write(ws, f'A{offset}', field)\n",
    "        write(ws, f'B{offset}', data)\n",
    "        offset += 1\n",
    "    return offset+1\n"
   ]
  },
  {
   "cell_type": "code",
   "execution_count": null,
   "metadata": {},
   "outputs": [],
   "source": [
    "fname = 'invoice_prototype.xlsx'\n",
    "workbook = xlsxwriter.Workbook(fname)\n",
    "worksheet = workbook.add_worksheet('modelo de preenchimento de nota')\n",
    "\n",
    "title_fmt = workbook.add_format({'bold' : True, 'align' : 'center',})\n",
    "sec_title_fmt = workbook.add_format({'bold' : True, 'align' : 'center', 'bg_color' : '#F6C242', 'border' : 1,})\n",
    "text_fmt = workbook.add_format({'border' : 1, 'text_wrap' : True})\n",
    "bold = workbook.add_format({'bold' : True, 'border' : 1,})\n",
    "date = workbook.add_format({'num_format' : 'dd mmmm yyyy', 'align' : 'left', 'border' : 1,})\n",
    "\n",
    "# Widen the first column to make the text clearer.\n",
    "worksheet.set_column('A:B', 41)"
   ]
  },
  {
   "source": [
    "## Title Section"
   ],
   "cell_type": "markdown",
   "metadata": {}
  },
  {
   "cell_type": "code",
   "execution_count": null,
   "metadata": {},
   "outputs": [],
   "source": [
    "worksheet.merge_range('A3:B3', 'FORMULÁRIO DE EMISSÃO DE NOTA FISCAL ELETRÔNICA', title_fmt)\n",
    "offset = 5"
   ]
  },
  {
   "source": [
    "## Sender section"
   ],
   "cell_type": "markdown",
   "metadata": {}
  },
  {
   "source": [
    "title = 'DADOS PARA A EMISSÃO DA NOTA (CLIENTE LAFS)'\n",
    "content_list = [\n",
    "    (['DADOS PARA PREENCHIMENTO', bold], ['INFORMAÇÕES', bold]),\n",
    "    ('Razão Social de sua empresa', 'Nemesys Tecnologia de Informação LTDA'),\n",
    "    ('Telefone para contato', '(21) 98230-9495'),\n",
    "    ('E-mail para contato', 'rctorres@nemesysconsulting.com'),\n",
    "    ('DATA EMISSÃO DA NOTA', [datetime.date.today(), date]),\n",
    "]\n",
    "offset = write_section(offset, worksheet, content_list, title)"
   ],
   "cell_type": "code",
   "metadata": {},
   "execution_count": null,
   "outputs": []
  },
  {
   "source": [
    "## Receiver Section"
   ],
   "cell_type": "markdown",
   "metadata": {}
  },
  {
   "cell_type": "code",
   "execution_count": null,
   "metadata": {},
   "outputs": [],
   "source": [
    "title = 'DADOS DO DESTINATÁRIO (EMPRESA PARA QUAL EMITIRÁ A NF – CONTRATANTE'\n",
    "content_list = [\n",
    "    (['DADOS PARA PREENCHIMENTO', bold], ['INFORMAÇÕES', bold]),\n",
    "    ('Razão Social de sua contratante.', 'Fundação Coordenação de Projetos, Pesquisas e Estudos Tecnológicos COPPETEC'),\n",
    "    ('ENDEREÇO:', 'Rua Moniz Aragão Nº 360, Bloco 1, Ilha do Fundão - Cidade Universitária'),\n",
    "    ('MUNICÍPIO:', 'Rio de Janeiro'),\n",
    "    ('ESTADO:', 'RJ'),\n",
    "    ('TEL.:', '3622-3400'),\n",
    "    ('CEP:', '21.941-594'),\n",
    "    ('CNPJ:', '72.060.999/0001-75'),\n",
    "    ('INSC. MUN. E/ESTADUAL:', 'N/A'),\n",
    "    ('DESCRIÇÃO DO SERVIÇO:', 'Desenvolvimento para a Tecnologia Glance/FENCE no contexto dos sistemas do Experimento ATLAS.'),\n",
    "    ('VALOR DA NOTA (BRUTO):', '6.000,00'),\n",
    "]\n",
    "offset = write_section(offset, worksheet, content_list, title)"
   ]
  },
  {
   "source": [
    "## City Tax Section"
   ],
   "cell_type": "markdown",
   "metadata": {}
  },
  {
   "cell_type": "code",
   "execution_count": null,
   "metadata": {},
   "outputs": [],
   "source": [
    "title = 'FAVOR CONFIRMAR RETENÇÃO DO ISS'\n",
    "content_list = [('( X ) NÃO    (   ) SIM, ___ %', '')]\n",
    "offset = write_section(offset, worksheet, content_list, title)"
   ]
  },
  {
   "source": [
    "## Additional Info"
   ],
   "cell_type": "markdown",
   "metadata": {}
  },
  {
   "cell_type": "code",
   "execution_count": null,
   "metadata": {},
   "outputs": [],
   "source": [
    "title = 'INFORMAÇÕES ADICIONAIS'\n",
    "content_list = [\n",
    "    (['Dados bancários:  (X) inclusão no corpo da nota   (  ) inclusão em Observações', bold], ''),\n",
    "    ('Banco: Inter (077)', ''),\n",
    "    ('Conta: 1458815-3', ''),\n",
    "    ('Agência: 0001', ''),\n",
    "    ('', ''),\n",
    "    (['Outras informações:', bold], 'SERVIÇO PRESTADO POR SÓCIO DA EMPRESA, SEM O CONCURSO DE EMPREGADOS OU OUTROS CONTRIBUINTES INDIVIDUAIS.'),\n",
    "    (['Contrato nº:', bold], ''),\n",
    "]\n",
    "offset = write_section(offset, worksheet, content_list, title)"
   ]
  },
  {
   "source": [
    "## Saving the final excel file"
   ],
   "cell_type": "markdown",
   "metadata": {}
  },
  {
   "cell_type": "code",
   "execution_count": null,
   "metadata": {},
   "outputs": [],
   "source": [
    "workbook.close()"
   ]
  }
 ]
}